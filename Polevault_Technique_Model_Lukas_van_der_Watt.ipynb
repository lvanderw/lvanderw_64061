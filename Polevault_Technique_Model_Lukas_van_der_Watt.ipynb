{
  "cells": [
    {
      "cell_type": "markdown",
      "metadata": {
        "id": "view-in-github",
        "colab_type": "text"
      },
      "source": [
        "<a href=\"https://colab.research.google.com/github/lvanderw/lvanderw_64061/blob/main/Polevault_Technique_Model_Lukas_van_der_Watt.ipynb\" target=\"_parent\"><img src=\"https://colab.research.google.com/assets/colab-badge.svg\" alt=\"Open In Colab\"/></a>"
      ]
    },
    {
      "cell_type": "markdown",
      "metadata": {
        "id": "ZTr4Tq2wAX-s"
      },
      "source": [
        "## Training a convnet from scratch on a small dataset"
      ]
    },
    {
      "cell_type": "markdown",
      "metadata": {
        "id": "Rp6TD9HZAX-s"
      },
      "source": [
        "### The relevance of deep learning for small-data problems"
      ]
    },
    {
      "cell_type": "markdown",
      "metadata": {
        "id": "etT3X-13AX-t"
      },
      "source": [
        "### Downloading the data"
      ]
    },
    {
      "cell_type": "code",
      "source": [
        "from google.colab import drive\n",
        "drive.mount('/content/drive')\n"
      ],
      "metadata": {
        "colab": {
          "base_uri": "https://localhost:8080/"
        },
        "id": "uxJEudWcBodO",
        "outputId": "65f647ca-558c-4c54-c43f-8601e47e7eb5"
      },
      "execution_count": null,
      "outputs": [
        {
          "output_type": "stream",
          "name": "stdout",
          "text": [
            "Mounted at /content/drive\n"
          ]
        }
      ]
    },
    {
      "cell_type": "code",
      "execution_count": null,
      "metadata": {
        "id": "ND4RwJC1AX-t"
      },
      "outputs": [],
      "source": [
        "!cp drive/MyDrive/Polevault.zip /content\n"
      ]
    },
    {
      "cell_type": "code",
      "source": [
        "drive.mount('/content/drive/',force_remount=True)\n"
      ],
      "metadata": {
        "colab": {
          "base_uri": "https://localhost:8080/"
        },
        "id": "JqL5G2beHMr3",
        "outputId": "791f1119-cb8f-4176-c318-097923719693"
      },
      "execution_count": null,
      "outputs": [
        {
          "output_type": "stream",
          "name": "stdout",
          "text": [
            "Mounted at /content/drive/\n"
          ]
        }
      ]
    },
    {
      "cell_type": "code",
      "execution_count": null,
      "metadata": {
        "id": "3E9Rr4WzAX-t"
      },
      "outputs": [],
      "source": [
        "!unzip -qq Polevault.zip"
      ]
    },
    {
      "cell_type": "code",
      "source": [
        "!rm -rf Polevault_Stages.zip"
      ],
      "metadata": {
        "id": "MTHPTULs-pof"
      },
      "execution_count": null,
      "outputs": []
    },
    {
      "cell_type": "code",
      "source": [
        "!rm -rf DataPartition/"
      ],
      "metadata": {
        "id": "oujugk26BXzd"
      },
      "execution_count": null,
      "outputs": []
    },
    {
      "cell_type": "code",
      "source": [
        "!rm -rf convnet_from_scratch.keras1"
      ],
      "metadata": {
        "id": "lOAu72HelNQj"
      },
      "execution_count": null,
      "outputs": []
    },
    {
      "cell_type": "code",
      "source": [
        "!rm -rf convnet_from_scratch_with_augmentation.keras"
      ],
      "metadata": {
        "id": "DcYd4OEclTUH"
      },
      "execution_count": null,
      "outputs": []
    },
    {
      "cell_type": "markdown",
      "metadata": {
        "id": "cQMuX7VkAX-u"
      },
      "source": [
        "**Copying images to training, validation, and test directories**"
      ]
    },
    {
      "cell_type": "code",
      "execution_count": null,
      "metadata": {
        "id": "yDVCVpruAX-u"
      },
      "outputs": [],
      "source": [
        "pip install split-folders\n"
      ]
    },
    {
      "cell_type": "code",
      "source": [
        "import splitfolders"
      ],
      "metadata": {
        "id": "UhdWNoijDc5y"
      },
      "execution_count": null,
      "outputs": []
    },
    {
      "cell_type": "code",
      "source": [
        "# Split with a ratio.\n",
        "splitfolders.ratio(\"Polevault\", output=\"DataPartition\",\n",
        "    seed=1337, ratio=(.7, .15, .15), group_prefix=None, move=False) # default values\n"
      ],
      "metadata": {
        "id": "eYyHAybeDBsU"
      },
      "execution_count": null,
      "outputs": []
    },
    {
      "cell_type": "markdown",
      "metadata": {
        "id": "bDuH3bGMAX-u"
      },
      "source": [
        "### Building the model"
      ]
    },
    {
      "cell_type": "markdown",
      "metadata": {
        "id": "zEhISwfRAX-u"
      },
      "source": [
        "**Instantiating a small convnet for dogs vs. cats classification**"
      ]
    },
    {
      "cell_type": "code",
      "execution_count": null,
      "metadata": {
        "id": "n32Zt3IqAX-u"
      },
      "outputs": [],
      "source": [
        "from tensorflow import keras\n",
        "from tensorflow.keras import layers\n",
        "\n",
        "inputs = keras.Input(shape=(180, 180, 3))\n",
        "x = layers.Rescaling(1./255)(inputs)\n",
        "x = layers.Conv2D(filters=32, kernel_size=3, activation=\"relu\")(x)\n",
        "x = layers.MaxPooling2D(pool_size=2)(x)\n",
        "x = layers.Conv2D(filters=64, kernel_size=3, activation=\"relu\")(x)\n",
        "x = layers.MaxPooling2D(pool_size=2)(x)\n",
        "x = layers.Conv2D(filters=128, kernel_size=3, activation=\"relu\")(x)\n",
        "x = layers.MaxPooling2D(pool_size=2)(x)\n",
        "x = layers.Conv2D(filters=256, kernel_size=3, activation=\"relu\")(x)\n",
        "x = layers.MaxPooling2D(pool_size=2)(x)\n",
        "x = layers.Conv2D(filters=256, kernel_size=3, activation=\"relu\")(x)\n",
        "x = layers.Flatten()(x)\n",
        "outputs = layers.Dense(1, activation=\"sigmoid\")(x)\n",
        "model = keras.Model(inputs=inputs, outputs=outputs)"
      ]
    },
    {
      "cell_type": "code",
      "execution_count": null,
      "metadata": {
        "id": "nAg2wVwtAX-u"
      },
      "outputs": [],
      "source": [
        "model.summary()"
      ]
    },
    {
      "cell_type": "markdown",
      "metadata": {
        "id": "o9W05EKCAX-v"
      },
      "source": [
        "**Configuring the model for training**"
      ]
    },
    {
      "cell_type": "code",
      "execution_count": null,
      "metadata": {
        "id": "w79f3GGLAX-v"
      },
      "outputs": [],
      "source": [
        "model.compile(loss=\"binary_crossentropy\",\n",
        "              optimizer=\"rmsprop\",\n",
        "              metrics=[\"accuracy\"])"
      ]
    },
    {
      "cell_type": "markdown",
      "metadata": {
        "id": "1rZRvHnmAX-v"
      },
      "source": [
        "### Data preprocessing"
      ]
    },
    {
      "cell_type": "markdown",
      "metadata": {
        "id": "heetuRPhAX-v"
      },
      "source": [
        "**Using `image_dataset_from_directory` to read images**"
      ]
    },
    {
      "cell_type": "code",
      "source": [
        "import pathlib"
      ],
      "metadata": {
        "id": "ZwqsHYuKFA1J"
      },
      "execution_count": null,
      "outputs": []
    },
    {
      "cell_type": "code",
      "execution_count": null,
      "metadata": {
        "colab": {
          "base_uri": "https://localhost:8080/"
        },
        "id": "tkRBArz-AX-v",
        "outputId": "4065c0fa-2f34-468a-a0b6-36f1453846f8"
      },
      "outputs": [
        {
          "output_type": "stream",
          "name": "stdout",
          "text": [
            "Found 402 files belonging to 2 classes.\n",
            "Found 85 files belonging to 2 classes.\n",
            "Found 89 files belonging to 2 classes.\n"
          ]
        }
      ],
      "source": [
        "new_base_dir = pathlib.Path(\"DataPartition\")\n",
        "from tensorflow.keras.utils import image_dataset_from_directory\n",
        "\n",
        "train_dataset = image_dataset_from_directory(\n",
        "    new_base_dir / \"train\",\n",
        "    image_size=(180, 180),\n",
        "    batch_size=32)\n",
        "validation_dataset = image_dataset_from_directory(\n",
        "    new_base_dir / \"val\",\n",
        "    image_size=(180, 180),\n",
        "    batch_size=32)\n",
        "test_dataset = image_dataset_from_directory(\n",
        "    new_base_dir / \"test\",\n",
        "    image_size=(180, 180),\n",
        "    batch_size=32)"
      ]
    },
    {
      "cell_type": "markdown",
      "metadata": {
        "id": "LvUYu2vyAX-w"
      },
      "source": [
        "**Displaying the shapes of the data and labels yielded by the `Dataset`**"
      ]
    },
    {
      "cell_type": "markdown",
      "metadata": {
        "id": "UvhDDBPlAX-w"
      },
      "source": [
        "**Fitting the model using a `Dataset`**"
      ]
    },
    {
      "cell_type": "markdown",
      "source": [
        "**Implementing Early stopping to prevent overfitting of the model**"
      ],
      "metadata": {
        "id": "o7xwZGeTs0wo"
      }
    },
    {
      "cell_type": "code",
      "source": [
        "from tensorflow.keras.callbacks import EarlyStopping\n",
        "early_stop=EarlyStopping(monitor='val_loss',mode='min',verbose=1,patience=5)\n",
        "#A patience of 5 epochs is set. This means that if the model validation loss contiously increase after 5 epochs it will stop model training\n"
      ],
      "metadata": {
        "id": "0Qqz666nsgLP"
      },
      "execution_count": null,
      "outputs": []
    },
    {
      "cell_type": "code",
      "execution_count": null,
      "metadata": {
        "colab": {
          "base_uri": "https://localhost:8080/"
        },
        "id": "8nXl9aPcAX-w",
        "outputId": "6ac838e3-d8aa-4f3a-9d3f-1d079e07e9a9"
      },
      "outputs": [
        {
          "output_type": "stream",
          "name": "stdout",
          "text": [
            "Epoch 1/15\n",
            "13/13 [==============================] - 39s 3s/step - loss: 0.0463 - accuracy: 0.9826 - val_loss: 1.6122 - val_accuracy: 0.7882\n",
            "Epoch 2/15\n",
            "13/13 [==============================] - 41s 3s/step - loss: 0.0030 - accuracy: 1.0000 - val_loss: 1.7996 - val_accuracy: 0.7765\n",
            "Epoch 3/15\n",
            "13/13 [==============================] - 41s 3s/step - loss: 5.6510e-04 - accuracy: 1.0000 - val_loss: 2.1390 - val_accuracy: 0.7765\n",
            "Epoch 4/15\n",
            "13/13 [==============================] - 41s 3s/step - loss: 2.3017e-04 - accuracy: 1.0000 - val_loss: 2.3805 - val_accuracy: 0.7765\n",
            "Epoch 5/15\n",
            "13/13 [==============================] - 42s 3s/step - loss: 9.6265e-05 - accuracy: 1.0000 - val_loss: 2.5741 - val_accuracy: 0.7765\n",
            "Epoch 6/15\n",
            "13/13 [==============================] - 39s 3s/step - loss: 5.3662e-05 - accuracy: 1.0000 - val_loss: 2.7868 - val_accuracy: 0.7765\n",
            "Epoch 7/15\n",
            "13/13 [==============================] - 38s 3s/step - loss: 2.8357e-05 - accuracy: 1.0000 - val_loss: 2.9398 - val_accuracy: 0.7529\n",
            "Epoch 8/15\n",
            "13/13 [==============================] - 38s 3s/step - loss: 1.0737e-05 - accuracy: 1.0000 - val_loss: 3.1941 - val_accuracy: 0.7647\n",
            "Epoch 9/15\n",
            "13/13 [==============================] - 45s 3s/step - loss: 5.0944e-06 - accuracy: 1.0000 - val_loss: 3.4604 - val_accuracy: 0.7647\n",
            "Epoch 10/15\n",
            "13/13 [==============================] - 38s 3s/step - loss: 1.9373e-06 - accuracy: 1.0000 - val_loss: 3.6186 - val_accuracy: 0.7647\n",
            "Epoch 11/15\n",
            "13/13 [==============================] - 38s 3s/step - loss: 1.0592e-06 - accuracy: 1.0000 - val_loss: 3.8839 - val_accuracy: 0.7412\n",
            "Epoch 12/15\n",
            "13/13 [==============================] - 38s 3s/step - loss: 5.3915e-07 - accuracy: 1.0000 - val_loss: 4.0285 - val_accuracy: 0.7647\n",
            "Epoch 13/15\n",
            "13/13 [==============================] - 38s 3s/step - loss: 0.7715 - accuracy: 0.9478 - val_loss: 1.3902 - val_accuracy: 0.7765\n",
            "Epoch 14/15\n",
            "13/13 [==============================] - 38s 3s/step - loss: 0.0065 - accuracy: 1.0000 - val_loss: 1.6909 - val_accuracy: 0.7765\n",
            "Epoch 15/15\n",
            "13/13 [==============================] - 39s 3s/step - loss: 0.0017 - accuracy: 1.0000 - val_loss: 2.0565 - val_accuracy: 0.7765\n"
          ]
        }
      ],
      "source": [
        "callbacks = [\n",
        "    keras.callbacks.ModelCheckpoint(\n",
        "        filepath=\"convnet_from_scratch.keras\",\n",
        "        save_best_only=True,\n",
        "        monitor=\"val_loss\")\n",
        "]\n",
        "history = model.fit(\n",
        "    train_dataset,\n",
        "    epochs=15,\n",
        "    validation_data=validation_dataset,\n",
        "    callbacks=callbacks)"
      ]
    },
    {
      "cell_type": "markdown",
      "metadata": {
        "id": "GM3h_pbTAX-w"
      },
      "source": [
        "**Displaying curves of loss and accuracy during training**"
      ]
    },
    {
      "cell_type": "code",
      "execution_count": null,
      "metadata": {
        "colab": {
          "base_uri": "https://localhost:8080/",
          "height": 545
        },
        "id": "QpH4MGHTAX-w",
        "outputId": "f7455c67-c042-4bbd-b2c3-8e9e44593462"
      },
      "outputs": [
        {
          "output_type": "display_data",
          "data": {
            "text/plain": [
              "<Figure size 432x288 with 1 Axes>"
            ],
            "image/png": "[encoded data removed]"
          },
          "metadata": {
            "needs_background": "light"
          }
        },
        {
          "output_type": "display_data",
          "data": {
            "text/plain": [
              "<Figure size 432x288 with 1 Axes>"
            ],
            "image/png": "[encoded data removed]"
          },
          "metadata": {
            "needs_background": "light"
          }
        }
      ],
      "source": [
        "import matplotlib.pyplot as plt\n",
        "accuracy = history.history[\"accuracy\"]\n",
        "val_accuracy = history.history[\"val_accuracy\"]\n",
        "loss = history.history[\"loss\"]\n",
        "val_loss = history.history[\"val_loss\"]\n",
        "epochs = range(1, len(accuracy) + 1)\n",
        "plt.plot(epochs, accuracy, \"bo\", label=\"Training accuracy\")\n",
        "plt.plot(epochs, val_accuracy, \"b\", label=\"Validation accuracy\")\n",
        "plt.title(\"Training and validation accuracy\")\n",
        "plt.legend()\n",
        "plt.figure()\n",
        "plt.plot(epochs, loss, \"bo\", label=\"Training loss\")\n",
        "plt.plot(epochs, val_loss, \"b\", label=\"Validation loss\")\n",
        "plt.title(\"Training and validation loss\")\n",
        "plt.legend()\n",
        "plt.show()"
      ]
    },
    {
      "cell_type": "markdown",
      "metadata": {
        "id": "KFpueq-uAX-x"
      },
      "source": [
        "**Evaluating the model on the test set**"
      ]
    },
    {
      "cell_type": "code",
      "execution_count": null,
      "metadata": {
        "colab": {
          "base_uri": "https://localhost:8080/"
        },
        "id": "QDd741d2AX-x",
        "outputId": "4dbc388f-0218-49a7-d6cf-6bd6fba453d6"
      },
      "outputs": [
        {
          "output_type": "stream",
          "name": "stdout",
          "text": [
            "3/3 [==============================] - 7s 1s/step - loss: 1.0638 - accuracy: 0.7303\n",
            "Test accuracy: 0.730\n"
          ]
        }
      ],
      "source": [
        "test_model = keras.models.load_model(\"convnet_from_scratch.keras\")\n",
        "test_loss, test_acc = test_model.evaluate(test_dataset)\n",
        "print(f\"Test accuracy: {test_acc:.3f}\")"
      ]
    },
    {
      "cell_type": "markdown",
      "source": [
        "#  **Using a Pretrained model VGG-16 with imagenet** "
      ],
      "metadata": {
        "id": "huZyTbAvBH_a"
      }
    },
    {
      "cell_type": "code",
      "source": [
        "from tensorflow.keras.layers import Input, Lambda, Dense, Flatten,Dropout\n",
        "from tensorflow.keras.models import Model\n",
        "from tensorflow.keras.applications.vgg19 import VGG19\n",
        "from tensorflow.keras.applications.vgg19 import preprocess_input\n",
        "from tensorflow.keras.preprocessing import image\n",
        "from tensorflow.keras.preprocessing.image import ImageDataGenerator\n",
        "from tensorflow.keras.models import Sequential\n",
        "import numpy as np\n",
        "import pandas as pd\n",
        "import os\n",
        "import cv2\n",
        "import matplotlib.pyplot as plt"
      ],
      "metadata": {
        "id": "VT8w2UO5WUc_"
      },
      "execution_count": null,
      "outputs": []
    },
    {
      "cell_type": "code",
      "source": [
        "train_path=\"DataPartition/train\"\n",
        "test_path=\"DataPartition/test\"\n",
        "val_path=\"DataPartition/val\""
      ],
      "metadata": {
        "id": "ACY_NDuXW6Es"
      },
      "execution_count": null,
      "outputs": []
    },
    {
      "cell_type": "code",
      "source": [
        "x_train=[]\n",
        "\n",
        "for folder in os.listdir(train_path):\n",
        "\n",
        "    sub_path=train_path+\"/\"+folder\n",
        "\n",
        "    for img in os.listdir(sub_path):\n",
        "\n",
        "        image_path=sub_path+\"/\"+img\n",
        "\n",
        "        img_arr=cv2.imread(image_path)\n",
        "\n",
        "        img_arr=cv2.resize(img_arr,(224,224))\n",
        "\n",
        "        x_train.append(img_arr)\n",
        "x_test=[]\n",
        "\n",
        "for folder in os.listdir(test_path):\n",
        "\n",
        "    sub_path=test_path+\"/\"+folder\n",
        "\n",
        "    for img in os.listdir(sub_path):\n",
        "\n",
        "        image_path=sub_path+\"/\"+img\n",
        "\n",
        "        img_arr=cv2.imread(image_path)\n",
        "\n",
        "        img_arr=cv2.resize(img_arr,(224,224))\n",
        "\n",
        "        x_test.append(img_arr)\n",
        "\n",
        "x_val=[]\n",
        "\n",
        "for folder in os.listdir(val_path):\n",
        "\n",
        "    sub_path=val_path+\"/\"+folder\n",
        "\n",
        "    for img in os.listdir(sub_path):\n",
        "\n",
        "        image_path=sub_path+\"/\"+img\n",
        "\n",
        "        img_arr=cv2.imread(image_path)\n",
        "\n",
        "        img_arr=cv2.resize(img_arr,(224,224))\n",
        "\n",
        "        x_val.append(img_arr)"
      ],
      "metadata": {
        "id": "40hgYOQ3tN89"
      },
      "execution_count": null,
      "outputs": []
    },
    {
      "cell_type": "code",
      "source": [
        "train_x=np.array(x_train)\n",
        "test_x=np.array(x_test)\n",
        "val_x=np.array(x_val)"
      ],
      "metadata": {
        "id": "hcbRJff4tbsq"
      },
      "execution_count": null,
      "outputs": []
    },
    {
      "cell_type": "code",
      "source": [
        "train_x=train_x/255.0\n",
        "test_x=test_x/255.0\n",
        "val_x=val_x/255.0"
      ],
      "metadata": {
        "id": "AiOr41LYxfJH"
      },
      "execution_count": null,
      "outputs": []
    },
    {
      "cell_type": "code",
      "source": [
        "train_datagen = ImageDataGenerator(rescale = 1./255)\n",
        "test_datagen = ImageDataGenerator(rescale = 1./255)\n",
        "val_datagen = ImageDataGenerator(rescale = 1./255)"
      ],
      "metadata": {
        "id": "xhfVOVy_xjjD"
      },
      "execution_count": null,
      "outputs": []
    },
    {
      "cell_type": "code",
      "source": [
        "training_set = train_datagen.flow_from_directory(train_path,\n",
        "                                                 target_size = (224, 224),\n",
        "                                                 batch_size = 32,\n",
        "                                                 class_mode = 'sparse')\n",
        "test_set = test_datagen.flow_from_directory(test_path,\n",
        "                                            target_size = (224, 224),\n",
        "                                            batch_size = 32,\n",
        "                                            class_mode = 'sparse')\n",
        "val_set = val_datagen.flow_from_directory(val_path,\n",
        "                                            target_size = (224, 224),\n",
        "                                            batch_size = 32,\n",
        "                                            class_mode = 'sparse')"
      ],
      "metadata": {
        "id": "3Sl-5nUgtreO",
        "outputId": "b654ca3a-4d83-48a0-de84-d9e796b11bb4",
        "colab": {
          "base_uri": "https://localhost:8080/"
        }
      },
      "execution_count": null,
      "outputs": [
        {
          "output_type": "stream",
          "name": "stdout",
          "text": [
            "Found 402 images belonging to 2 classes.\n",
            "Found 89 images belonging to 2 classes.\n",
            "Found 85 images belonging to 2 classes.\n"
          ]
        }
      ]
    },
    {
      "cell_type": "code",
      "source": [
        "train_y=training_set.classes\n",
        "test_y=test_set.classes\n",
        "val_y=val_set.classes"
      ],
      "metadata": {
        "id": "zYEKwWZYYmEG"
      },
      "execution_count": null,
      "outputs": []
    },
    {
      "cell_type": "code",
      "source": [
        "training_set.class_indices"
      ],
      "metadata": {
        "colab": {
          "base_uri": "https://localhost:8080/"
        },
        "id": "vsYmSVbNYpsQ",
        "outputId": "b73fce85-4204-43fb-a574-f934b3a239fd"
      },
      "execution_count": null,
      "outputs": [
        {
          "output_type": "execute_result",
          "data": {
            "text/plain": [
              "{'Bad': 0, 'Good': 1}"
            ]
          },
          "metadata": {},
          "execution_count": 17
        }
      ]
    },
    {
      "cell_type": "code",
      "source": [
        "train_y.shape,test_y.shape,val_y.shape"
      ],
      "metadata": {
        "colab": {
          "base_uri": "https://localhost:8080/"
        },
        "id": "YGO8L8MYYu7M",
        "outputId": "58b66bcc-abce-4a04-aa2f-d41c24495085"
      },
      "execution_count": null,
      "outputs": [
        {
          "output_type": "execute_result",
          "data": {
            "text/plain": [
              "((402,), (89,), (85,))"
            ]
          },
          "metadata": {},
          "execution_count": 18
        }
      ]
    },
    {
      "cell_type": "code",
      "source": [
        "from tensorflow import keras\n",
        "from tensorflow.keras import layers"
      ],
      "metadata": {
        "id": "JxSHKTbEy-6h"
      },
      "execution_count": null,
      "outputs": []
    },
    {
      "cell_type": "code",
      "source": [
        "conv_base = keras.applications.vgg16.VGG16(\n",
        "    weights=\"imagenet\",\n",
        "    include_top=False,\n",
        "     input_shape=(224, 224,3))"
      ],
      "metadata": {
        "id": "acj33v7Pv6dM"
      },
      "execution_count": null,
      "outputs": []
    },
    {
      "cell_type": "code",
      "source": [
        "for layer in conv_base.layers:\n",
        "    layer.trainable = False"
      ],
      "metadata": {
        "id": "vD-p5gL5wCok"
      },
      "execution_count": null,
      "outputs": []
    },
    {
      "cell_type": "code",
      "source": [
        "x = Flatten()(conv_base.output)\n",
        "#adding output layer.Softmax classifier is used as it is multi-class classification\n",
        "prediction = Dense(3, activation='sigmoid')(x)\n",
        "\n",
        "model = Model(inputs=conv_base.input, outputs=prediction)"
      ],
      "metadata": {
        "id": "T11wEL5iwMSI"
      },
      "execution_count": null,
      "outputs": []
    },
    {
      "cell_type": "code",
      "source": [
        "# view the structure of the model\n",
        "model.summary()"
      ],
      "metadata": {
        "id": "GwjM_EFwwV03",
        "outputId": "2cf2d862-8d30-4507-a8c1-daaca20e077f",
        "colab": {
          "base_uri": "https://localhost:8080/"
        }
      },
      "execution_count": null,
      "outputs": [
        {
          "output_type": "stream",
          "name": "stdout",
          "text": [
            "Model: \"model_1\"\n",
            "_________________________________________________________________\n",
            " Layer (type)                Output Shape              Param #   \n",
            "=================================================================\n",
            " input_5 (InputLayer)        [(None, 224, 224, 3)]     0         \n",
            "                                                                 \n",
            " block1_conv1 (Conv2D)       (None, 224, 224, 64)      1792      \n",
            "                                                                 \n",
            " block1_conv2 (Conv2D)       (None, 224, 224, 64)      36928     \n",
            "                                                                 \n",
            " block1_pool (MaxPooling2D)  (None, 112, 112, 64)      0         \n",
            "                                                                 \n",
            " block2_conv1 (Conv2D)       (None, 112, 112, 128)     73856     \n",
            "                                                                 \n",
            " block2_conv2 (Conv2D)       (None, 112, 112, 128)     147584    \n",
            "                                                                 \n",
            " block2_pool (MaxPooling2D)  (None, 56, 56, 128)       0         \n",
            "                                                                 \n",
            " block3_conv1 (Conv2D)       (None, 56, 56, 256)       295168    \n",
            "                                                                 \n",
            " block3_conv2 (Conv2D)       (None, 56, 56, 256)       590080    \n",
            "                                                                 \n",
            " block3_conv3 (Conv2D)       (None, 56, 56, 256)       590080    \n",
            "                                                                 \n",
            " block3_pool (MaxPooling2D)  (None, 28, 28, 256)       0         \n",
            "                                                                 \n",
            " block4_conv1 (Conv2D)       (None, 28, 28, 512)       1180160   \n",
            "                                                                 \n",
            " block4_conv2 (Conv2D)       (None, 28, 28, 512)       2359808   \n",
            "                                                                 \n",
            " block4_conv3 (Conv2D)       (None, 28, 28, 512)       2359808   \n",
            "                                                                 \n",
            " block4_pool (MaxPooling2D)  (None, 14, 14, 512)       0         \n",
            "                                                                 \n",
            " block5_conv1 (Conv2D)       (None, 14, 14, 512)       2359808   \n",
            "                                                                 \n",
            " block5_conv2 (Conv2D)       (None, 14, 14, 512)       2359808   \n",
            "                                                                 \n",
            " block5_conv3 (Conv2D)       (None, 14, 14, 512)       2359808   \n",
            "                                                                 \n",
            " block5_pool (MaxPooling2D)  (None, 7, 7, 512)         0         \n",
            "                                                                 \n",
            " flatten_4 (Flatten)         (None, 25088)             0         \n",
            "                                                                 \n",
            " dense_4 (Dense)             (None, 3)                 75267     \n",
            "                                                                 \n",
            "=================================================================\n",
            "Total params: 14,789,955\n",
            "Trainable params: 75,267\n",
            "Non-trainable params: 14,714,688\n",
            "_________________________________________________________________\n"
          ]
        }
      ]
    },
    {
      "cell_type": "code",
      "source": [
        "model.compile(\n",
        "  loss='sparse_categorical_crossentropy',\n",
        "  optimizer=\"adam\",\n",
        "  metrics=['accuracy']\n",
        ")"
      ],
      "metadata": {
        "id": "JkeHRRUEwabX"
      },
      "execution_count": null,
      "outputs": []
    },
    {
      "cell_type": "code",
      "source": [
        "from tensorflow.keras.callbacks import EarlyStopping\n",
        "early_stop=EarlyStopping(monitor='val_loss',mode='min',verbose=1,patience=5)\n",
        "#Early stopping to avoid overfitting of model"
      ],
      "metadata": {
        "id": "SNeTDF4jwfEA"
      },
      "execution_count": null,
      "outputs": []
    },
    {
      "cell_type": "code",
      "source": [
        "# fit the model\n",
        "history = model.fit(\n",
        "  train_x,\n",
        "  train_y,\n",
        "  validation_data=(val_x,val_y),\n",
        "  epochs=30,\n",
        "  callbacks=[early_stop],\n",
        "  batch_size=32)"
      ],
      "metadata": {
        "id": "vjzE5jKXwhxa",
        "outputId": "1b45c172-8d0e-436d-b5b2-3477c8c69497",
        "colab": {
          "base_uri": "https://localhost:8080/"
        }
      },
      "execution_count": null,
      "outputs": [
        {
          "output_type": "stream",
          "name": "stdout",
          "text": [
            "Epoch 1/30\n",
            "13/13 [==============================] - 247s 19s/step - loss: 0.8379 - accuracy: 0.6020 - val_loss: 0.5371 - val_accuracy: 0.7059\n",
            "Epoch 2/30\n",
            "13/13 [==============================] - 246s 19s/step - loss: 0.2742 - accuracy: 0.8731 - val_loss: 0.5191 - val_accuracy: 0.7176\n",
            "Epoch 3/30\n",
            "13/13 [==============================] - 247s 19s/step - loss: 0.1508 - accuracy: 0.9677 - val_loss: 0.4752 - val_accuracy: 0.7529\n",
            "Epoch 4/30\n",
            "13/13 [==============================] - 245s 19s/step - loss: 0.0938 - accuracy: 0.9975 - val_loss: 0.4599 - val_accuracy: 0.7647\n",
            "Epoch 5/30\n",
            "13/13 [==============================] - 245s 19s/step - loss: 0.0690 - accuracy: 1.0000 - val_loss: 0.4760 - val_accuracy: 0.7529\n",
            "Epoch 6/30\n",
            "13/13 [==============================] - 246s 19s/step - loss: 0.0514 - accuracy: 1.0000 - val_loss: 0.4899 - val_accuracy: 0.7647\n",
            "Epoch 7/30\n",
            "13/13 [==============================] - 245s 19s/step - loss: 0.0453 - accuracy: 0.9975 - val_loss: 0.5103 - val_accuracy: 0.7529\n",
            "Epoch 8/30\n",
            "13/13 [==============================] - 245s 19s/step - loss: 0.0352 - accuracy: 0.9975 - val_loss: 0.5066 - val_accuracy: 0.7765\n",
            "Epoch 9/30\n",
            "13/13 [==============================] - 244s 19s/step - loss: 0.0279 - accuracy: 1.0000 - val_loss: 0.5148 - val_accuracy: 0.7529\n",
            "Epoch 9: early stopping\n"
          ]
        }
      ]
    },
    {
      "cell_type": "code",
      "source": [
        "# accuracies\n",
        "\n",
        "plt.plot(history.history['accuracy'], label='train acc')\n",
        "\n",
        "plt.plot(history.history['val_accuracy'], label='val acc')\n",
        "\n",
        "plt.legend()\n",
        "\n",
        "plt.savefig('vgg-acc-rps-1.png')\n",
        "\n",
        "plt.show()"
      ],
      "metadata": {
        "id": "nmOTtpgMACcG",
        "outputId": "053ca57f-0665-4d06-fc8c-4edc140f0a38",
        "colab": {
          "base_uri": "https://localhost:8080/",
          "height": 265
        }
      },
      "execution_count": null,
      "outputs": [
        {
          "output_type": "display_data",
          "data": {
            "text/plain": [
              "<Figure size 432x288 with 1 Axes>"
            ],
            "image/png": "[encoded data removed]"
          },
          "metadata": {
            "needs_background": "light"
          }
        }
      ]
    },
    {
      "cell_type": "code",
      "source": [
        "# loss\n",
        "plt.plot(history.history['loss'], label='train loss')\n",
        "plt.plot(history.history['val_loss'], label='val loss')\n",
        "plt.legend()\n",
        "plt.savefig('vgg-loss-rps-1.png')\n",
        "plt.show()"
      ],
      "metadata": {
        "id": "qlF4n_7BAFLN",
        "outputId": "e0639c11-8eef-4ec1-fdc3-c48f58a3df5f",
        "colab": {
          "base_uri": "https://localhost:8080/",
          "height": 265
        }
      },
      "execution_count": null,
      "outputs": [
        {
          "output_type": "display_data",
          "data": {
            "text/plain": [
              "<Figure size 432x288 with 1 Axes>"
            ],
            "image/png": "[encoded data removed]"
          },
          "metadata": {
            "needs_background": "light"
          }
        }
      ]
    },
    {
      "cell_type": "code",
      "source": [
        "model.evaluate(test_x,test_y,batch_size=32)"
      ],
      "metadata": {
        "colab": {
          "base_uri": "https://localhost:8080/"
        },
        "id": "G0ixP4-uVmwE",
        "outputId": "a429fa61-c1de-4e36-b259-b40fad1fa505"
      },
      "execution_count": null,
      "outputs": [
        {
          "output_type": "stream",
          "name": "stdout",
          "text": [
            "3/3 [==============================] - 45s 14s/step - loss: 0.4527 - accuracy: 0.7978\n"
          ]
        },
        {
          "output_type": "execute_result",
          "data": {
            "text/plain": [
              "[0.4527008533477783, 0.7977527976036072]"
            ]
          },
          "metadata": {},
          "execution_count": 55
        }
      ]
    },
    {
      "cell_type": "code",
      "source": [
        "from sklearn.metrics import accuracy_score,classification_report,confusion_matrix\n",
        "import numpy as np"
      ],
      "metadata": {
        "id": "36sz_EqPa6L6"
      },
      "execution_count": null,
      "outputs": []
    },
    {
      "cell_type": "code",
      "source": [
        "y_pred"
      ],
      "metadata": {
        "id": "A-7mY-SsDqTA",
        "outputId": "bd5ca06c-2296-400f-cccc-bef77fe61915",
        "colab": {
          "base_uri": "https://localhost:8080/"
        }
      },
      "execution_count": null,
      "outputs": [
        {
          "output_type": "execute_result",
          "data": {
            "text/plain": [
              "array([1, 0, 0, 1, 0, 0, 0, 1, 0, 1, 0, 0, 1, 1, 0, 0, 0, 0, 0, 0, 1, 0,\n",
              "       1, 1, 0, 0, 0, 1, 0, 0, 0, 1, 1, 1, 1, 1, 1, 1, 0, 1, 1, 1, 1, 1,\n",
              "       1, 1, 1, 1, 1, 1, 1, 1, 1, 1, 1, 1, 1, 0, 1, 0, 1, 1, 1, 1, 1, 1,\n",
              "       1, 1, 1, 1, 1, 1, 1, 0, 1, 1, 1, 1, 1, 0, 1, 1, 1, 1, 1, 0, 1, 1,\n",
              "       1])"
            ]
          },
          "metadata": {},
          "execution_count": 61
        }
      ]
    },
    {
      "cell_type": "code",
      "source": [
        "#predict\n",
        "y_pred=model.predict(test_x)\n",
        "y_pred=np.argmax(y_pred,axis=1)\n",
        "#get classification report\n",
        "print(classification_report(y_pred,test_y))\n"
      ],
      "metadata": {
        "colab": {
          "base_uri": "https://localhost:8080/"
        },
        "id": "CjT593snaDWS",
        "outputId": "563091ac-bca8-4446-ec77-fdc4a37b32b4"
      },
      "execution_count": null,
      "outputs": [
        {
          "output_type": "stream",
          "name": "stdout",
          "text": [
            "              precision    recall  f1-score   support\n",
            "\n",
            "           0       0.64      0.78      0.70        27\n",
            "           1       0.89      0.81      0.85        62\n",
            "\n",
            "    accuracy                           0.80        89\n",
            "   macro avg       0.76      0.79      0.77        89\n",
            "weighted avg       0.82      0.80      0.80        89\n",
            "\n"
          ]
        }
      ]
    },
    {
      "cell_type": "code",
      "source": [
        "#get confusion matrix\n",
        "print(confusion_matrix(y_pred,test_y))"
      ],
      "metadata": {
        "colab": {
          "base_uri": "https://localhost:8080/"
        },
        "id": "NPguC3VDbMnG",
        "outputId": "33d8bf62-f612-43ee-f27c-cdb303beebe6"
      },
      "execution_count": null,
      "outputs": [
        {
          "output_type": "stream",
          "name": "stdout",
          "text": [
            "[[21  6]\n",
            " [12 50]]\n"
          ]
        }
      ]
    },
    {
      "cell_type": "markdown",
      "metadata": {
        "id": "Tz_IEUTnAX-x"
      },
      "source": [
        "### Using data augmentation"
      ]
    },
    {
      "cell_type": "markdown",
      "metadata": {
        "id": "yOMyZI3zAX-x"
      },
      "source": [
        "**Define a data augmentation stage to add to an image model**"
      ]
    },
    {
      "cell_type": "code",
      "execution_count": null,
      "metadata": {
        "id": "0VVhoO0VAX-x"
      },
      "outputs": [],
      "source": [
        "data_augmentation = keras.Sequential(\n",
        "    [\n",
        "        layers.RandomFlip(\"horizontal\"),\n",
        "        layers.RandomRotation(0.4),\n",
        "        layers.RandomZoom(0.2),\n",
        "    ]\n",
        ")"
      ]
    },
    {
      "cell_type": "markdown",
      "metadata": {
        "id": "uRPFZE2aAX-x"
      },
      "source": [
        "**Displaying some randomly augmented training images**"
      ]
    },
    {
      "cell_type": "code",
      "execution_count": null,
      "metadata": {
        "colab": {
          "base_uri": "https://localhost:8080/",
          "height": 191
        },
        "id": "Ewc_cm-3AX-x",
        "outputId": "f5b5b568-9785-4cf7-d51a-681e58b5d76d"
      },
      "outputs": [
        {
          "output_type": "display_data",
          "data": {
            "text/plain": [
              "<Figure size 720x720 with 3 Axes>"
            ],
            "image/png": "[encoded data removed]"
          },
          "metadata": {
            "needs_background": "light"
          }
        }
      ],
      "source": [
        "plt.figure(figsize=(10, 10))\n",
        "for images, _ in train_dataset.take(1):\n",
        "    for i in range(3):\n",
        "        augmented_images = data_augmentation(images)\n",
        "        ax = plt.subplot(3, 3, i + 1)\n",
        "        plt.imshow(augmented_images[0].numpy().astype(\"uint8\"))\n",
        "        plt.axis(\"off\")"
      ]
    },
    {
      "cell_type": "markdown",
      "metadata": {
        "id": "m4mCnhavAX-x"
      },
      "source": [
        "**Defining a new convnet that includes image augmentation and dropout**"
      ]
    },
    {
      "cell_type": "code",
      "execution_count": null,
      "metadata": {
        "id": "DUVyGlvnAX-y"
      },
      "outputs": [],
      "source": [
        "inputs = keras.Input(shape=(180, 180, 3))\n",
        "x = data_augmentation(inputs)\n",
        "x = layers.Rescaling(1./255)(x)\n",
        "x = layers.Conv2D(filters=32, kernel_size=3, activation=\"relu\")(x)\n",
        "x = layers.MaxPooling2D(pool_size=2)(x)\n",
        "x = layers.Conv2D(filters=64, kernel_size=3, activation=\"relu\")(x)\n",
        "x = layers.MaxPooling2D(pool_size=2)(x)\n",
        "x = layers.Conv2D(filters=128, kernel_size=3, activation=\"relu\")(x)\n",
        "x = layers.MaxPooling2D(pool_size=2)(x)\n",
        "x = layers.Conv2D(filters=256, kernel_size=3, activation=\"relu\")(x)\n",
        "x = layers.MaxPooling2D(pool_size=2)(x)\n",
        "x = layers.Conv2D(filters=256, kernel_size=3, activation=\"relu\")(x)\n",
        "x = layers.Flatten()(x)\n",
        "x = layers.Dropout(0.5)(x)\n",
        "outputs = layers.Dense(1, activation=\"sigmoid\")(x)\n",
        "model = keras.Model(inputs=inputs, outputs=outputs)\n",
        "\n",
        "model.compile(loss=\"binary_crossentropy\",\n",
        "              optimizer=\"rmsprop\",\n",
        "              metrics=[\"accuracy\"])"
      ]
    },
    {
      "cell_type": "markdown",
      "metadata": {
        "id": "YzXaTv1sAX-y"
      },
      "source": [
        "**Training the regularized convnet**"
      ]
    },
    {
      "cell_type": "code",
      "execution_count": null,
      "metadata": {
        "colab": {
          "base_uri": "https://localhost:8080/"
        },
        "id": "jj-IeRJoAX-y",
        "outputId": "ee59f8a6-b1f1-4a49-fbbf-af4d68258086"
      },
      "outputs": [
        {
          "output_type": "stream",
          "name": "stdout",
          "text": [
            "Epoch 1/50\n",
            "13/13 [==============================] - 41s 3s/step - loss: 0.5649 - accuracy: 0.6667 - val_loss: 0.5984 - val_accuracy: 0.6824\n",
            "Epoch 2/50\n",
            "13/13 [==============================] - 40s 3s/step - loss: 0.5702 - accuracy: 0.6642 - val_loss: 0.6609 - val_accuracy: 0.6588\n",
            "Epoch 3/50\n",
            "13/13 [==============================] - 40s 3s/step - loss: 0.5644 - accuracy: 0.7090 - val_loss: 0.8937 - val_accuracy: 0.5647\n",
            "Epoch 4/50\n",
            "13/13 [==============================] - 40s 3s/step - loss: 0.6847 - accuracy: 0.6667 - val_loss: 0.6545 - val_accuracy: 0.5647\n",
            "Epoch 5/50\n",
            "13/13 [==============================] - 40s 3s/step - loss: 0.5479 - accuracy: 0.6816 - val_loss: 0.6740 - val_accuracy: 0.6941\n",
            "Epoch 6/50\n",
            "13/13 [==============================] - 40s 3s/step - loss: 0.5652 - accuracy: 0.6816 - val_loss: 0.6956 - val_accuracy: 0.6588\n",
            "Epoch 7/50\n",
            "13/13 [==============================] - 40s 3s/step - loss: 0.5557 - accuracy: 0.6716 - val_loss: 0.6394 - val_accuracy: 0.6000\n",
            "Epoch 8/50\n",
            "13/13 [==============================] - 40s 3s/step - loss: 0.5749 - accuracy: 0.6517 - val_loss: 0.5872 - val_accuracy: 0.6588\n",
            "Epoch 9/50\n",
            "13/13 [==============================] - 40s 3s/step - loss: 0.5805 - accuracy: 0.6940 - val_loss: 0.6487 - val_accuracy: 0.6588\n",
            "Epoch 10/50\n",
            "13/13 [==============================] - 40s 3s/step - loss: 0.5529 - accuracy: 0.6468 - val_loss: 0.5855 - val_accuracy: 0.6588\n",
            "Epoch 11/50\n",
            "13/13 [==============================] - 40s 3s/step - loss: 0.5518 - accuracy: 0.6791 - val_loss: 0.5867 - val_accuracy: 0.6471\n",
            "Epoch 12/50\n",
            "13/13 [==============================] - 40s 3s/step - loss: 0.5192 - accuracy: 0.7289 - val_loss: 0.9149 - val_accuracy: 0.6235\n",
            "Epoch 13/50\n",
            "13/13 [==============================] - 40s 3s/step - loss: 0.5175 - accuracy: 0.7289 - val_loss: 0.6065 - val_accuracy: 0.6471\n",
            "Epoch 14/50\n",
            "13/13 [==============================] - 40s 3s/step - loss: 0.5903 - accuracy: 0.6592 - val_loss: 0.5599 - val_accuracy: 0.6588\n",
            "Epoch 15/50\n",
            "13/13 [==============================] - 40s 3s/step - loss: 0.5385 - accuracy: 0.7040 - val_loss: 0.5847 - val_accuracy: 0.6706\n",
            "Epoch 16/50\n",
            "13/13 [==============================] - 40s 3s/step - loss: 0.4930 - accuracy: 0.7239 - val_loss: 0.6174 - val_accuracy: 0.6235\n",
            "Epoch 17/50\n",
            "13/13 [==============================] - 40s 3s/step - loss: 0.5356 - accuracy: 0.6915 - val_loss: 0.6681 - val_accuracy: 0.6706\n",
            "Epoch 18/50\n",
            "13/13 [==============================] - 40s 3s/step - loss: 0.5112 - accuracy: 0.7214 - val_loss: 0.7845 - val_accuracy: 0.6471\n",
            "Epoch 19/50\n",
            "13/13 [==============================] - 40s 3s/step - loss: 0.5143 - accuracy: 0.7438 - val_loss: 0.6889 - val_accuracy: 0.6706\n",
            "Epoch 20/50\n",
            "13/13 [==============================] - 40s 3s/step - loss: 0.5123 - accuracy: 0.7363 - val_loss: 0.7857 - val_accuracy: 0.6706\n",
            "Epoch 21/50\n",
            "13/13 [==============================] - 40s 3s/step - loss: 0.4948 - accuracy: 0.7164 - val_loss: 0.5883 - val_accuracy: 0.6588\n",
            "Epoch 22/50\n",
            "13/13 [==============================] - 40s 3s/step - loss: 0.5370 - accuracy: 0.6965 - val_loss: 0.5465 - val_accuracy: 0.6941\n",
            "Epoch 23/50\n",
            "13/13 [==============================] - 40s 3s/step - loss: 0.5020 - accuracy: 0.7438 - val_loss: 0.6020 - val_accuracy: 0.6588\n",
            "Epoch 24/50\n",
            "13/13 [==============================] - 40s 3s/step - loss: 0.5691 - accuracy: 0.7264 - val_loss: 0.5715 - val_accuracy: 0.6588\n",
            "Epoch 25/50\n",
            "13/13 [==============================] - 39s 3s/step - loss: 0.5161 - accuracy: 0.7264 - val_loss: 0.5563 - val_accuracy: 0.6706\n",
            "Epoch 26/50\n",
            "13/13 [==============================] - 40s 3s/step - loss: 0.4759 - accuracy: 0.7488 - val_loss: 0.8578 - val_accuracy: 0.6706\n",
            "Epoch 27/50\n",
            "13/13 [==============================] - 40s 3s/step - loss: 0.5312 - accuracy: 0.7438 - val_loss: 0.5282 - val_accuracy: 0.7176\n",
            "Epoch 28/50\n",
            "13/13 [==============================] - 39s 3s/step - loss: 0.4930 - accuracy: 0.7363 - val_loss: 0.5849 - val_accuracy: 0.6941\n",
            "Epoch 29/50\n",
            "13/13 [==============================] - 40s 3s/step - loss: 0.4683 - accuracy: 0.7562 - val_loss: 0.5554 - val_accuracy: 0.7059\n",
            "Epoch 30/50\n",
            "13/13 [==============================] - 40s 3s/step - loss: 0.5453 - accuracy: 0.7214 - val_loss: 0.5483 - val_accuracy: 0.6824\n",
            "Epoch 31/50\n",
            "13/13 [==============================] - 40s 3s/step - loss: 0.4572 - accuracy: 0.7687 - val_loss: 0.5694 - val_accuracy: 0.6588\n",
            "Epoch 32/50\n",
            "13/13 [==============================] - 40s 3s/step - loss: 0.4968 - accuracy: 0.7214 - val_loss: 0.5424 - val_accuracy: 0.6941\n",
            "Epoch 33/50\n",
            "13/13 [==============================] - 40s 3s/step - loss: 0.5492 - accuracy: 0.7164 - val_loss: 0.5824 - val_accuracy: 0.6824\n",
            "Epoch 34/50\n",
            "13/13 [==============================] - 40s 3s/step - loss: 0.5152 - accuracy: 0.7587 - val_loss: 0.5172 - val_accuracy: 0.6941\n",
            "Epoch 35/50\n",
            "13/13 [==============================] - 40s 3s/step - loss: 0.4564 - accuracy: 0.7736 - val_loss: 0.4949 - val_accuracy: 0.7176\n",
            "Epoch 36/50\n",
            "13/13 [==============================] - 40s 3s/step - loss: 0.4362 - accuracy: 0.7687 - val_loss: 0.5285 - val_accuracy: 0.6588\n",
            "Epoch 37/50\n",
            "13/13 [==============================] - 40s 3s/step - loss: 0.4322 - accuracy: 0.7960 - val_loss: 0.6187 - val_accuracy: 0.6353\n",
            "Epoch 38/50\n",
            "13/13 [==============================] - 40s 3s/step - loss: 0.4963 - accuracy: 0.7488 - val_loss: 0.5723 - val_accuracy: 0.6941\n",
            "Epoch 39/50\n",
            "13/13 [==============================] - 40s 3s/step - loss: 0.4726 - accuracy: 0.7786 - val_loss: 0.5391 - val_accuracy: 0.6941\n",
            "Epoch 40/50\n",
            "13/13 [==============================] - 40s 3s/step - loss: 0.4819 - accuracy: 0.7612 - val_loss: 0.4849 - val_accuracy: 0.7294\n",
            "Epoch 41/50\n",
            "13/13 [==============================] - 40s 3s/step - loss: 0.4553 - accuracy: 0.7811 - val_loss: 0.4956 - val_accuracy: 0.7294\n",
            "Epoch 42/50\n",
            "13/13 [==============================] - 40s 3s/step - loss: 0.4660 - accuracy: 0.7886 - val_loss: 0.4886 - val_accuracy: 0.7765\n",
            "Epoch 43/50\n",
            "13/13 [==============================] - 39s 3s/step - loss: 0.4664 - accuracy: 0.7587 - val_loss: 0.5407 - val_accuracy: 0.6824\n",
            "Epoch 44/50\n",
            "13/13 [==============================] - 40s 3s/step - loss: 0.4338 - accuracy: 0.7662 - val_loss: 0.5062 - val_accuracy: 0.7529\n",
            "Epoch 45/50\n",
            "13/13 [==============================] - 40s 3s/step - loss: 0.5157 - accuracy: 0.7488 - val_loss: 0.5875 - val_accuracy: 0.7294\n",
            "Epoch 46/50\n",
            "13/13 [==============================] - 40s 3s/step - loss: 0.4227 - accuracy: 0.7587 - val_loss: 0.6087 - val_accuracy: 0.7294\n",
            "Epoch 47/50\n",
            "13/13 [==============================] - 40s 3s/step - loss: 0.4856 - accuracy: 0.7687 - val_loss: 0.4707 - val_accuracy: 0.7882\n",
            "Epoch 48/50\n",
            "13/13 [==============================] - 40s 3s/step - loss: 0.4440 - accuracy: 0.7861 - val_loss: 0.5147 - val_accuracy: 0.6941\n",
            "Epoch 49/50\n",
            "13/13 [==============================] - 40s 3s/step - loss: 0.4436 - accuracy: 0.7736 - val_loss: 0.4888 - val_accuracy: 0.7294\n",
            "Epoch 50/50\n",
            "13/13 [==============================] - 40s 3s/step - loss: 0.4484 - accuracy: 0.7811 - val_loss: 0.4597 - val_accuracy: 0.7412\n"
          ]
        }
      ],
      "source": [
        "callbacks = [\n",
        "    keras.callbacks.ModelCheckpoint(\n",
        "        filepath=\"convnet_from_scratch_with_augmentation.keras\",\n",
        "        save_best_only=True,\n",
        "        monitor=\"val_loss\")\n",
        "]\n",
        "history = model.fit(\n",
        "    train_dataset,\n",
        "    epochs=50,\n",
        "    validation_data=validation_dataset,\n",
        "    callbacks=callbacks)"
      ]
    },
    {
      "cell_type": "markdown",
      "metadata": {
        "id": "4GdlhFpGAX-y"
      },
      "source": [
        "**Evaluating the model on the test set**"
      ]
    },
    {
      "cell_type": "code",
      "execution_count": null,
      "metadata": {
        "colab": {
          "base_uri": "https://localhost:8080/"
        },
        "id": "hvK8rQBrAX-y",
        "outputId": "8e0dbf49-f0f0-4ab4-f970-e25adc6117b0"
      },
      "outputs": [
        {
          "output_type": "stream",
          "name": "stdout",
          "text": [
            "3/3 [==============================] - 9s 1s/step - loss: 0.4745 - accuracy: 0.7191\n",
            "Test accuracy: 0.719101\n"
          ]
        }
      ],
      "source": [
        "test_model = keras.models.load_model(\n",
        "    \"convnet_from_scratch_with_augmentation.keras\")\n",
        "test_loss, test_acc = test_model.evaluate(test_dataset)\n",
        "print(f\"Test accuracy: {test_acc:3f}\")"
      ]
    },
    {
      "cell_type": "markdown",
      "metadata": {
        "id": "2R_jWQF3AX-2"
      },
      "source": [
        "**Evaluating the model on the test set**"
      ]
    }
  ],
  "metadata": {
    "colab": {
      "collapsed_sections": [],
      "name": "Polevault Technique Model_Lukas van der Watt",
      "provenance": [],
      "include_colab_link": true
    },
    "kernelspec": {
      "display_name": "Python 3",
      "language": "python",
      "name": "python3"
    },
    "language_info": {
      "codemirror_mode": {
        "name": "ipython",
        "version": 3
      },
      "file_extension": ".py",
      "mimetype": "text/x-python",
      "name": "python",
      "nbconvert_exporter": "python",
      "pygments_lexer": "ipython3",
      "version": "3.7.0"
    }
  },
  "nbformat": 4,
  "nbformat_minor": 0
}